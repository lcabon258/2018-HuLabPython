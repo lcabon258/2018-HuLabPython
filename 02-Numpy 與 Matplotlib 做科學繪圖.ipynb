{
 "cells": [
  {
   "cell_type": "markdown",
   "metadata": {},
   "source": [
    "# 第二部份 Numpy 與 Matplotlib 做科學繪圖\n",
    "\n",
    "在這一部分，我們要使用 Numpy 與 Matplotlib 完成繪圖的工作！  \n",
    "我們今天的目標：畫出地表附近地殼的岩石強度（流變學）！  \n",
    "Sounds difficult **:(**  \n",
    "先看一下正瑋之前寫的作業：  \n",
    "![TA Rheology Demo](./img/Rheology_Demo.png)\n",
    "\n",
    "***\n",
    "讓我們先很簡單的介紹一下我們會用的兩個工具：Numpy 與 Matplotlib！  \n",
    "## Numpy\n",
    "![numpy logo](./img/NumPy.png)    \n",
    "**NumPy (Numerical Python)** 提供快速的高維向量、矩陣運算，使直譯式語言計算速度接近編譯語言。  \n",
    "限制：型別固定，向量不好更改大小  \n",
    "## Matplotlib\n",
    "![matplotlib logo](./img/Matplotlib.png)  \n",
    "在 Python 中提供接近 Matlab 語言習慣的繪圖函式庫，包含圖形界面的語法，得力於Python互動的模式，可快速調整圖片外觀。但體系龐大，不好學習。  \n",
    "\n",
    "這堂課目的是教你快速的畫出一張圖，以及基本的選項，詳細的美感等需要你去閱讀[Tutorial](http://matplotlib.org/tutorials/index.html)或[Documentation](http://matplotlib.org/contents.html)。  \n",
    "***\n",
    "## 繪圖邏輯：\n",
    "1. 設計好計算方程式。  \n",
    "2. 建立代表X的座標陣列。  \n",
    "3. 使用函式計算Y值。  \n",
    "4. 畫出X與Y。  \n",
    "***\n",
    "## 練習一、Byerlee's Law\n",
    "\n",
    "先複習一下脆性的岩石強度模型：Byerlee's law：  \n",
    "![Bywelee's Law](./img/By.jpg)\n",
    "Get Ready!  \n",
    "***\n",
    "首先先匯入相關的函式庫：  "
   ]
  },
  {
   "cell_type": "code",
   "execution_count": null,
   "metadata": {},
   "outputs": [],
   "source": [
    "%pylab\n",
    "%matplotlib"
   ]
  },
  {
   "cell_type": "code",
   "execution_count": null,
   "metadata": {},
   "outputs": [],
   "source": [
    "import numpy as np\n",
    "import matplotlib.pyplot as plt"
   ]
  },
  {
   "cell_type": "markdown",
   "metadata": {},
   "source": [
    "***\n",
    "### 步驟一、設計函式\n",
    "前面我們已經學過使用「**def**」關鍵字來建立自己的函數了，讓我們來試試看自己定義Byerlee's law吧！  \n",
    "提示：輸入σn、輸出τ"
   ]
  },
  {
   "cell_type": "code",
   "execution_count": null,
   "metadata": {},
   "outputs": [],
   "source": [
    "def Byerlee_law1( ### ):\n",
    "    \"\"\"for sigma < 200 MPa\"\"\"\n",
    "    ...\n",
    "    return \n",
    "    \n",
    "def Byerlee_law2( ### ):\n",
    "    \"\"\"for sigma > 200 MPa\"\"\"\n",
    "    ...\n",
    "    return "
   ]
  },
  {
   "cell_type": "markdown",
   "metadata": {
    "collapsed": true
   },
   "source": [
    "解答：  \n",
    "\n",
    "```python\n",
    "def Byerlee_law1( n ):\n",
    "    \"\"\"for sigma < 200 MPa\"\"\"\n",
    "    return 0.85*n\n",
    "    \n",
    "def Byerlee_law2( n ):\n",
    "    \"\"\"for sigma > 200 MPa\"\"\"\n",
    "    return 0.6*n+50\n",
    "```"
   ]
  },
  {
   "cell_type": "markdown",
   "metadata": {},
   "source": [
    "***\n",
    "### 步驟二、建立 X 座標\n",
    "首先我們要先決定要繪圖的範圍。  \n",
    "這邊使用 [Numpy.arange()](https://docs.scipy.org/doc/numpy-1.13.0/reference/arrays.indexing.html)函式:\n",
    "> **numpy.arange([start, ]stop, [step, ]dtype=None)**\n",
    "> Return evenly spaced values within a given interval.\n",
    "> Values are generated within the half-open interval [start, stop) (in other words, the interval including start but excluding stop). For integer arguments the function is equivalent to the Python built-in range function, but returns an ndarray rather than a list.  \n",
    "\n",
    "注意：如果給定 step，則 start 一定要指定。\n",
    "\n",
    "小提醒：對於線性的函數，通常不需要給太高的解析度，以增加計算速度與節省電腦記憶體空間，對於曲線則必須考量出圖的解析度來決定座標的密度。"
   ]
  },
  {
   "cell_type": "code",
   "execution_count": null,
   "metadata": {},
   "outputs": [],
   "source": [
    "SigmaN1=np.arange(1,200,1,dtype=np.float32)\n",
    "#請你在下面加入「SigmaN2=...」，來計算大於 200MPa 的曲線。"
   ]
  },
  {
   "cell_type": "markdown",
   "metadata": {},
   "source": [
    "***\n",
    "### 步驟三、計算得到 Y 座標\n",
    "呼叫剛剛定義的「**Byerlee_law1**」與「**Byerlee_law2**」來計算 Y 值吧！\n",
    "記得指派一個變數讓他被保留起來！"
   ]
  },
  {
   "cell_type": "code",
   "execution_count": null,
   "metadata": {},
   "outputs": [],
   "source": [
    "SigmaD1=Byerlee_law1(SigmaN1)"
   ]
  },
  {
   "cell_type": "markdown",
   "metadata": {},
   "source": [
    "***\n",
    "### 步驟四、畫圖！\n",
    "接著我們要使用 Matplotlib 來畫圖啦！\n",
    "首先我們回顧一下剛剛 Demo 圖裡面的一些元素：\n",
    "![Figure and Axes](./img/FigureAndAxes.png)  \n",
    "* Figure 物件：一個畫框，裡面包含數個 Axes 物件。\n",
    "* Axes 物件：一個畫紙，裡面可以繪出各種不同種類的圖表。\n",
    "\n",
    "#### 讓我們來創造一張圖吧！\n",
    "\n",
    ">matplotlib.pyplot.**[subplots](http://matplotlib.org/api/_as_gen/matplotlib.pyplot.subplots.html#matplotlib.pyplot.subplots)**(nrows=1, ncols=1, sharex=False, sharey=False, squeeze=True, subplot_kw=None, gridspec_kw=None, \\**fig_kw)\n",
    ">Parameters:\n",
    ">* nrows, ncols : int, optional, default: 1\n",
    ">* sharex, sharey : bool or {‘none’, ‘all’, ‘row’, ‘col’}, default: False\n",
    ">* squeeze : bool, optional, default: True\n",
    ">* subplot_kw : dict, optional\n",
    ">* gridspec_kw : dict, optional\n",
    ">* \\**fig_kw :\n",
    ">Return:\n",
    ">* fig : matplotlib.figure.Figure object\n",
    ">* ax : Axes object or array of Axes objects."
   ]
  },
  {
   "cell_type": "code",
   "execution_count": null,
   "metadata": {},
   "outputs": [],
   "source": [
    "fig,ax = plt.subplots(nrows=1,ncols=1)\n",
    "fig.show()"
   ]
  },
  {
   "cell_type": "markdown",
   "metadata": {},
   "source": [
    "提示：在「nrows=1,ncols=1」（只有一張畫布）時，傳回的 ax 會是一個 Axes Object；若有多於一個畫布，則傳回 Axes Object 的陣列。當只有一列時，傳回一維陣列，由左到右，其餘則為二維陣列。如以下範例："
   ]
  },
  {
   "cell_type": "code",
   "execution_count": null,
   "metadata": {},
   "outputs": [],
   "source": [
    "fig2,ax2 = plt.subplots(nrows=2,ncols=2)\n",
    "for r in range(2): #rows\n",
    "    for c in range(2): #column\n",
    "        ax2[r][c].text(0.5,0.5,\"r={},c={}\".format(r,c),fontsize=20, horizontalalignment='center')\n",
    "fig2.show()"
   ]
  },
  {
   "cell_type": "markdown",
   "metadata": {},
   "source": [
    "***\n",
    "#### 把資料畫到 axes 之中\n",
    "**點或線的資料**\n",
    "使用「Plot」方法：  \n",
    ">matplotlib.pyplot.**[plot](http://matplotlib.org/api/_as_gen/matplotlib.pyplot.plot.html#matplotlib.pyplot.plot)**(*args, \\**kwargs)\n",
    "使用方法：\n",
    "```\n",
    "axes.plot(X,Y,其他設定（顏色、style等）\n",
    "```\n",
    "補充一下style的代碼：  \n",
    "character \tdescription  \n",
    "** 線 Line **  \n",
    "'-' \tsolid line style  \n",
    "'--' \tdashed line style  \n",
    "'-.' \tdash-dot line style  \n",
    "':' \tdotted line style  \n",
    "** 點 Marker **  \n",
    "'.' \tpoint marker  \n",
    "',' \tpixel marker  \n",
    "'o' \tcircle marker  \n",
    "'v' \ttriangle_down marker  \n",
    "'^' \ttriangle_up marker  \n",
    "'<' \ttriangle_left marker  \n",
    "'>' \ttriangle_right marker  \n",
    "'1' \ttri_down marker  \n",
    "'2' \ttri_up marker  \n",
    "'3' \ttri_left marker  \n",
    "'4' \ttri_right marker  \n",
    "'s' \tsquare marker  \n",
    "'p' \tpentagon marker  \n",
    "'*' \tstar marker  \n",
    "'h' \thexagon1 marker  \n",
    "'H' \thexagon2 marker  \n",
    "'+' \tplus marker  \n",
    "'x' \tx marker  \n",
    "'D' \tdiamond marker  \n",
    "'d' \tthin_diamond marker  \n",
    "'|' \tvline marker  \n",
    "'_' \thline marker  \n",
    "至於顏色的設定代碼：  \n",
    "character \tcolor  \n",
    "‘b’ \tblue  \n",
    "‘g’ \tgreen  \n",
    "‘r’ \tred  \n",
    "‘c’ \tcyan  \n",
    "‘m’ \tmagenta  \n",
    "‘y’ \tyellow  \n",
    "‘k’ \tblack  \n",
    "‘w’ \twhite  \n",
    "  "
   ]
  },
  {
   "cell_type": "code",
   "execution_count": null,
   "metadata": {},
   "outputs": [],
   "source": [
    "# Line1記錄線的物件，方便我們之後可以更改屬性！\n",
    "Line1, = ax.plot(SigmaN1,SigmaD1,\"r-\",label=\"<200MPa\")"
   ]
  },
  {
   "cell_type": "markdown",
   "metadata": {},
   "source": [
    "要做細節的設定，可以在繪製時就傳入相關的參數，或是用```set_*```的方法指定。可設定的內容[見這邊](http://matplotlib.org/api/_as_gen/matplotlib.lines.Line2D.html#matplotlib.lines.Line2D)。\n",
    "常用的是：\n",
    "* color ：指定顏色。\n",
    "* linewidth 或 lw ：指定線寬。\n",
    "* marker：指定標記的樣子\n",
    "* label：指定該線段的標籤，在做圖例時非常好用！"
   ]
  },
  {
   "cell_type": "code",
   "execution_count": null,
   "metadata": {
    "scrolled": false
   },
   "outputs": [],
   "source": [
    "#變成虛線\n",
    "Line1.set_linestyle(\"--\")"
   ]
  },
  {
   "cell_type": "code",
   "execution_count": null,
   "metadata": {},
   "outputs": [],
   "source": [
    "# 如果圖片不見了，再呼叫一次：\n",
    "fig"
   ]
  },
  {
   "cell_type": "markdown",
   "metadata": {
    "collapsed": true
   },
   "source": [
    "**練習：加入>200MPa的部分**"
   ]
  },
  {
   "cell_type": "code",
   "execution_count": null,
   "metadata": {},
   "outputs": [],
   "source": [
    "ax.plot(...)"
   ]
  },
  {
   "cell_type": "markdown",
   "metadata": {},
   "source": [
    "***\n",
    "#### 圖片的外觀：座標軸、標題等\n",
    "詳細請見：  \n",
    "class matplotlib.axes.[Axes](http://matplotlib.org/api/axes_api.html#matplotlib.axes.Axes)(fig, rect, facecolor=None, frameon=True, sharex=None, sharey=None, label='', xscale=None, yscale=None, axisbg=None, \\**kwargs)\n",
    "\n",
    "**加入格線**\n",
    ">matplotlib.axes.Axes.[grid](http://matplotlib.org/api/_as_gen/matplotlib.axes.Axes.grid.html#matplotlib.axes.Axes.grid)(b=None, which='major', axis='both', \\**kwargs)\n",
    "\n",
    "```\n",
    "ax.grid(True,\"both\")\n",
    "```\n",
    "\n",
    "**設定繪圖範圍**  \n",
    ">Axes.[set_xlim](http://matplotlib.org/api/_as_gen/matplotlib.axes.Axes.set_xlim.html#matplotlib.axes.Axes.set_xlim)(left=None, right=None, emit=True, auto=False, \\**kw)\n",
    "Axes.[set_ylim](http://matplotlib.org/api/_as_gen/matplotlib.axes.Axes.set_ylim.html#matplotlib.axes.Axes.set_ylim)(bottom=None, top=None, emit=True, auto=False, \\**kw)\n",
    "```\n",
    "ax.set_xlim(0,500)\n",
    "ax.set_ylim(0,500)\n",
    "```\n",
    "\n",
    "**設定標題**\n",
    ">Axes.[set_title](http://matplotlib.org/api/_as_gen/matplotlib.axes.Axes.set_title.html#matplotlib.axes.Axes.set_title)(label, fontdict=None, loc='center', \\**kwargs)\n",
    "```\n",
    "ax.set_title(\"Bywelee's law\")\n",
    "```\n",
    "\n",
    "**設定座標軸標題**\n",
    ">Axes.[set_xlabel](http://matplotlib.org/api/_as_gen/matplotlib.axes.Axes.set_xlabel.html#matplotlib.axes.Axes.set_xlabel)(xlabel, fontdict=None, labelpad=None, \\**kwargs)\n",
    "```\n",
    "ax.set_xlabel(\"Differential Stress (MPa)\")\n",
    "ax.set_ylabel(\"Stress (MPa)\")\n",
    "```\n",
    "\n",
    "**圖例** \n",
    ">Axes.[legend](http://matplotlib.org/api/_as_gen/matplotlib.axes.Axes.legend.html#matplotlib.axes.Axes.legend)(*args, \\**kwargs)\n",
    ">```\n",
    "方法一、\n",
    "ax.plot([1, 2, 3])\n",
    "ax.legend(['A simple line'])\n",
    "方法二、\n",
    "line, = ax.plot([1, 2, 3], label='Inline label')\n",
    "\\# Overwrite the label by calling the method.\n",
    "line.set_label('Label via method')\n",
    "ax.legend()\n",
    "方法二、\n",
    "ax.legend((line1, line2, line3), ('label1', 'label2', 'label3'))\n",
    "```\n",
    "重要變數：\n",
    "* loc：放置的位置。ocation String \tLocation Code\n",
    "```\n",
    "‘best’ \t0\n",
    "‘upper right’ \t1\n",
    "‘upper left’ \t2\n",
    "‘lower left’ \t3\n",
    "‘lower right’ \t4\n",
    "‘right’ \t5\n",
    "‘center left’ \t6\n",
    "‘center right’ \t7\n",
    "‘lower center’ \t8\n",
    "‘upper center’ \t9\n",
    "‘center’ \t10\n",
    "```\n",
    "* ncol：欄數。（int）\n",
    "* title：標題。（str）\n",
    "* shadow：陰影。（bool）\n",
    "在互動模式下，要讓圖例可以拉來拉去：\n",
    "```\n",
    "ax[i].legend(title=\"Legend\").draggable()\n",
    "```\n",
    "\n",
    "**座標軸種類**\n",
    ">Axes.[set_xscale](http://matplotlib.org/api/_as_gen/matplotlib.axes.Axes.set_xscale.html#matplotlib.axes.Axes.set_xscale)(value, \\**kwargs)\n",
    "Axes.[set_yscale](http://matplotlib.org/api/_as_gen/matplotlib.axes.Axes.set_yscale.html#matplotlib.axes.Axes.set_yscale)(value, \\**kwargs)\n",
    "value : {“linear”, “log”, “symlog”, “logit”}\n",
    "\n",
    "**反轉 y 軸**\n",
    "```\n",
    "ax.invert_yaxis()\n",
    "```\n",
    "**練習：加入圖片標題、座標軸標題、圖例**"
   ]
  },
  {
   "cell_type": "code",
   "execution_count": null,
   "metadata": {},
   "outputs": [],
   "source": [
    "ax.set_title(\"Bywelee's law\")\n",
    "...\n",
    "fig"
   ]
  },
  {
   "cell_type": "markdown",
   "metadata": {},
   "source": [
    "***\n",
    "#### 加入文字\n",
    "Axes.[text](http://matplotlib.org/api/_as_gen/matplotlib.axes.Axes.text.html?highlight=axes%20text#matplotlib.axes.Axes.text)(x, y, s, fontdict=None, withdash=False, \\**kwargs)\n",
    "* x, y : scalars data.   \n",
    "coordinates\n",
    "* s : string.   \n",
    "text\n",
    "* fontdict : dictionary, optional, default: None  \n",
    "A dictionary to override the default text properties. If fontdict is None, the defaults are determined by your rc parameters.\n",
    "* withdash : boolean, optional, default: False  \n",
    "Creates a TextWithDash instance instead of a Text instance. \n",
    "\n",
    "其他變數可以傳入 class matplotlib.text.[Text](http://matplotlib.org/api/text_api.html#matplotlib.text.Text)(x=0, y=0, text='', color=None, verticalalignment='baseline', horizontalalignment='left', multialignment=None, fontproperties=None, rotation=None, linespacing=None, rotation_mode=None, usetex=None, wrap=False, \\**kwargs)  \n",
    "所有的參數。\n",
    "\n",
    "比較常用的參數：\n",
    "* horizontalalignment or ha ： [ ‘center’ | ‘right’ | ‘left’ ]\n",
    "* label ：string or anything printable with ‘%s’ conversion.\n",
    "* position：(x,y)\n",
    "* rotation：[ angle in degrees | ‘vertical’ | ‘horizontal’ ]\n",
    "* size or fontsize：[size in points | ‘xx-small’ | ‘x-small’ | ‘small’ | ‘medium’ | ‘large’ | ‘x-large’ | ‘xx-large’ ]\n",
    "* style or fontstyle：[ ‘normal’ | ‘italic’ | ‘oblique’]\n",
    "* text：string or anything printable with ‘%s’ conversion\n",
    "* verticalalignment or ma or va ：[ ‘center’ | ‘top’ | ‘bottom’ | ‘baseline’ ]  \n",
    "\n",
    "這些參數一樣可以用```.set_*```來指定。"
   ]
  },
  {
   "cell_type": "code",
   "execution_count": null,
   "metadata": {},
   "outputs": [],
   "source": [
    "text1 = ax.text(50,40,r\"$\\tau = 0.85\\sigma_n$\",fontsize=20)\n",
    "fig"
   ]
  },
  {
   "cell_type": "markdown",
   "metadata": {},
   "source": [
    "***\n",
    "### 繪製曲線：以 Exponential law creep 為例：\n",
    "![Demo2](./img/DemoFig2.png)\n",
    "![Exponential Law Creep](./img/ExpCreep.jpg)\n",
    "給定一些材料常數：\n",
    "Quartzite\n",
    "* A=6.7e-6 MPa^-n s-1\n",
    "* n=2.4 \n",
    "* E=156 KJ/mol-1\n",
    "\n",
    "首先決定要以哪兩軸做圖，比如說以絕對溫度T為X軸，岩石強度為Y軸，其餘參數需自行假設。\n",
    "下面以應變速率為10^-11計算："
   ]
  },
  {
   "cell_type": "code",
   "execution_count": null,
   "metadata": {},
   "outputs": [],
   "source": [
    "#寫出方程式\n",
    "def exp_creep_T2S(T,A,n,E,StrainRate):\n",
    "    \"\"\"\n",
    "    Give Temperature in K\n",
    "    A in MPa-n s-1\n",
    "    E in KJ/mol\n",
    "    StrainRate in s-1\n",
    "    and return the stress in Pa\"\"\"\n",
    "    R = 8.3144598  #Gas constant in J/mol.K\n",
    "    sd=np.log((StrainRate/(A*1e6))*(1/np.exp(-1.*(E*1e3)/(R*T))))\n",
    "    return sd # unit is Pa\n"
   ]
  },
  {
   "cell_type": "code",
   "execution_count": null,
   "metadata": {},
   "outputs": [],
   "source": [
    "# 建立X座標\n",
    "T=np.arange(1,1200,10,dtype=np.float32)\n",
    "# 岩石參數（quartzite）\n",
    "A=6.7e-6\n",
    "n=2.4\n",
    "E=156\n",
    "# 應變速率\n",
    "StrainRate1=1e-11\n",
    "StrainRate2=1e-13\n",
    "# 計算岩石強度\n",
    "SD1=exp_creep_T2S(T,A,n,E,StrainRate1) \n",
    "SD2=exp_creep_T2S(T,A,n,E,StrainRate2) \n",
    "# 換單位 Pa -> MPa\n",
    "SD1=SD1/1e-6\n",
    "SD2=SD2/1e-6\n",
    "# 畫圖\n",
    "fig3,ax3 = plt.subplots(1,1)\n",
    "ax3.cla()#清除圖表內容\n",
    "line1, = ax3.plot(T,SD1,\"b-\",label=r\"$\\epsilon = 10^{-11}$\")\n",
    "line2, = ax3.plot(T,SD2,\"r-\",label=r\"$\\epsilon = 10^{-13}$\")\n",
    "equa = ax3.text(600,3e7,r\"$\\epsilon = A \\exp^{ \\sigma_d } \\exp^{-E^{*}/RT}$\",fontsize=20)\n",
    "sign = ax3.text(100,0,\"Earth Structure 2017.\\nAuthor:Sun,ChengWei\",fontsize=12)\n",
    "ax3.set_title(\"Rock Strength\")\n",
    "ax3.set_xlabel(\"Temperature (K)\")\n",
    "ax3.set_ylabel(\"Stress (MPa)\")\n",
    "ax3.set_xlim(1,1200)\n",
    "ax3.set_ylim(0,6e7)\n",
    "ax3.grid(True,\"both\")\n",
    "leg = ax3.legend(title=r\"Strain Rate($\\frac{1}{t}$)\",loc='upper right',shadow=True)\n",
    "fig3"
   ]
  },
  {
   "cell_type": "markdown",
   "metadata": {},
   "source": [
    "### 補充：撰寫希臘字母或是數學式：\n",
    "魔法符號：「**\\$**」\n",
    "將文字字串包含在兩個錢符號的中間，即可表現出希臘字母或是數學算式。[完整教學](https://matplotlib.org/users/mathtext.html)。  \n",
    "\n",
    "#### *下標*\n",
    "\n",
    "```\n",
    "r'$\\alpha_i > \\beta_i$'\n",
    "```\n",
    "![math](./img/math/math01.png)\n",
    "#### *分數*\n",
    "\n",
    "```\n",
    "r'$\\frac{3}{4} \\binom{3}{4} \\stackrel{3}{4}$'\n",
    "```\n",
    "![math](./img/math/math02.png)\n",
    "```\n",
    "r'$\\frac{5 - \\frac{1}{x}}{4}$'\n",
    "```\n",
    "![math](./img/math/math03.png)\n",
    "\n",
    "#### *跟號相關*\n",
    "二次方根：\n",
    "```\n",
    "r'$\\sqrt{2}$'\n",
    "```\n",
    "![math](./img/math/math04.png)\n",
    "多次方根：\n",
    "```\n",
    "r'$\\sqrt[3]{x}$'\n",
    "```\n",
    "![math](./img/math/math05.png)\n",
    "\n",
    "#### *音節*\n",
    "![math](./img/math/math09.jpg)\n",
    "\n",
    "#### *各種符號（完整請見網頁版）*\n",
    "![math](./img/math/math06.jpg)\n",
    "![math](./img/math/math07.jpg)\n",
    "![math](./img/math/math08.jpg)"
   ]
  },
  {
   "cell_type": "code",
   "execution_count": null,
   "metadata": {},
   "outputs": [],
   "source": []
  },
  {
   "cell_type": "code",
   "execution_count": null,
   "metadata": {},
   "outputs": [],
   "source": []
  }
 ],
 "metadata": {
  "kernelspec": {
   "display_name": "Python 3",
   "language": "python",
   "name": "python3"
  },
  "language_info": {
   "codemirror_mode": {
    "name": "ipython",
    "version": 3
   },
   "file_extension": ".py",
   "mimetype": "text/x-python",
   "name": "python",
   "nbconvert_exporter": "python",
   "pygments_lexer": "ipython3",
   "version": "3.6.4"
  }
 },
 "nbformat": 4,
 "nbformat_minor": 1
}
