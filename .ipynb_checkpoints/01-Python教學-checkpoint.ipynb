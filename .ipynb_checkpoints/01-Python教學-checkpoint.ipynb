{
 "cells": [
  {
   "cell_type": "code",
   "execution_count": null,
   "metadata": {},
   "outputs": [],
   "source": [
    "%matplotlib inline"
   ]
  },
  {
   "cell_type": "markdown",
   "metadata": {},
   "source": [
    "# Python 入門與 Matplotlib 繪圖入門  \n",
    "\n",
    "# 第一部份：Python簡介\n",
    "\n",
    "![Python Logo](./img/Python.png)\n",
    "\n",
    "* 高階程式語言\n",
    "* 設計哲學：可讀性與簡潔的語法  \n",
    "* 直譯式語言 （interpreted language）  \n",
    "\t* -> 說一句做一件事 -> 互動模式讓你快速測試與除錯👍🏻  \n",
    "\t* <->編譯語言（ Compiled language ）需要先將腳本（Script）完整編譯成機器語言後再執行，較有效率（如 C, Fortran等）  \n",
    "* 動態型別，使用方便。（初始化時不需指定型別）  \n",
    "* 兼容並蓄，擴充性強。（可用不同語言撰寫套件給Python用）  \n",
    "* 使用：科學運算、GIS系統、網路爬蟲等等  \n",
    "\n",
    "***\n",
    "\n",
    "## Anaconda：Python 發行版\n",
    "![Anaconda Picture](./img/Anaconda.png)\n",
    "\n",
    "* 為了科學運算特別包裝的套裝發行版。\n",
    "* 已經預先安裝許多科學運算用的套件。\n",
    "* 有專屬的 IDE: **Spyder** 方便快速Coding。\n",
    "![Spyder app](./img/Spyder.png)\n",
    "* CONDA：Python 的套件管理工具，方便安裝各類套件。\n",
    "\t* 安裝： ```conda install --channel conda-forge -n env boltons```\n",
    "\t* 更新套件：```conda update scipy```\n",
    "\t* 更新conda：```conda update conda```\n",
    "\t* 其他應用請參考：[Conda官網](https://conda.io/docs/_downloads/conda-cheatsheet.pdf)\n",
    "\n",
    "***\n",
    "\n",
    "## 內建型別介紹：\n",
    "* 文字 String  ```a=apple```\n",
    "* 整數 integer ```b=1```\n",
    "* 浮點數 float ```c=3.14```\n",
    "* 清單 list    ```d=[]```\n",
    "* 元組 tuple   ```e=()```\n",
    "List 和 Tuple的差異在於可不可以變換內容\n",
    "\n",
    "### 替變數命名限制：\n",
    "* 不可以和保留字重複（語法相關，比如`def`、`return`等等）\n",
    "* 不可以用數字開頭\n",
    "* 不可以含有空格\n",
    "\n",
    "Let's try！  \n",
    "**創造一個「List」，名為 「bag」，裡面放一個「apple」**"
   ]
  },
  {
   "cell_type": "code",
   "execution_count": null,
   "metadata": {},
   "outputs": [],
   "source": [
    "bag = [\"apple\"]"
   ]
  },
  {
   "cell_type": "markdown",
   "metadata": {},
   "source": [
    "來看看包包有什麼：使用 ```print```函式："
   ]
  },
  {
   "cell_type": "code",
   "execution_count": null,
   "metadata": {},
   "outputs": [],
   "source": [
    "print(bag)"
   ]
  },
  {
   "cell_type": "markdown",
   "metadata": {
    "collapsed": true
   },
   "source": [
    "很好！讓我們在包包加入一些東西！\n",
    "## 物件的方法  \n",
    "* 所有建立的物件都是 Python Object（或說 class），Python會自動分辨其型別。  \n",
    "* 方法：每格型別有特別的「方法」（Method）可以呼叫，用「.」的方式標於物件後，用以傳回特定值或有特別操作。  \n",
    "比如說： ``` list.append( x )```  \n",
    "就會在「list」裡面加入「x」。  \n",
    "**請在包包裡加入「banana」與「lemon」**"
   ]
  },
  {
   "cell_type": "code",
   "execution_count": null,
   "metadata": {},
   "outputs": [],
   "source": [
    "bag.append(\"banana\")"
   ]
  },
  {
   "cell_type": "markdown",
   "metadata": {},
   "source": [
    "Lemon 就留給你加入囉！\n",
    "[其他參考資料](https://docs.python.org/3.6/tutorial/datastructures.html)"
   ]
  },
  {
   "cell_type": "code",
   "execution_count": null,
   "metadata": {},
   "outputs": [],
   "source": []
  },
  {
   "cell_type": "markdown",
   "metadata": {},
   "source": [
    "## 容器類索引  \n",
    "\n",
    "* 容器類包含：List、Tuple、Dictionary 等。\n",
    "* 取用容器內容（元素elements）時，可以使用「索引」（index）將其取出。\n",
    "* 索引夾在中括號中，置於容器型別後面。  \n",
    "* 注意：第一個內容索引從 「0」 開始。  \n",
    "* 舉例： 購物清單中第二個內容是什麼？\n",
    "```print( bag[1] )```  \n",
    "\n",
    "* 若要取一段，可以用「:」來取出，如：\n",
    "\n",
    "```n = [1,2,3,4,5]\u000b",
    "\n",
    "print( n[1:3] )```  \n",
    "**請印出「bag」裡第二個內容是什麼**"
   ]
  },
  {
   "cell_type": "code",
   "execution_count": null,
   "metadata": {},
   "outputs": [],
   "source": [
    "print(bag[ ## ])"
   ]
  },
  {
   "cell_type": "markdown",
   "metadata": {},
   "source": [
    "***\n",
    "\n",
    "## 文字的方法\n",
    "* 初始化文字：使用單引號「' '」、雙引號「\" \"」將文字括住。  \n",
    "* 長字串或長註解（包含換行）使用前後各使用三個引號括住。\u000b",
    "  \n",
    "\n",
    "```python\n",
    "\"\"\"\n",
    "註解\n",
    "\"\"\"\n",
    "```\n",
    "### 格式化文字方法： format方法  \n",
    "```\n",
    "[[fill]align][sign][#][0][width][grouping_option][.precision][type]\n",
    "```  \n",
    "請你試試：  \n",
    "```python\n",
    "\"購物車第一項是 {0}，第二項是 {1}\".format( bag[0],bag[1] )\n",
    "```\n",
    "還有下面這句：\n",
    "```python\n",
    "\"3.1415取到第二位是{:.3}\".format(3.1415)\n",
    "```\n",
    "[更詳細的說明可以點這邊](https://docs.python.org/3.6/library/string.html#format-string-syntax)"
   ]
  },
  {
   "cell_type": "code",
   "execution_count": null,
   "metadata": {},
   "outputs": [],
   "source": [
    "print(\"包包第一項是 {0}，第二項是 {1}\".format( bag[0],bag[1] ))"
   ]
  },
  {
   "cell_type": "code",
   "execution_count": null,
   "metadata": {},
   "outputs": [],
   "source": []
  },
  {
   "cell_type": "markdown",
   "metadata": {},
   "source": [
    "***\n",
    "\n",
    "## for 迴圈\n",
    "\n",
    "* 對一陣列內物件做相同處理時非常好用。\n",
    "* 語法：  \n",
    "```python\n",
    "for element in container:  \n",
    "    do something\n",
    "```\n",
    "* **element** 在每一次的循環中，都會被帶換成 container 內的物件。  \n",
    "舉例：  \n",
    "```python\n",
    "for item in bag:  \n",
    "    print( item )\n",
    "```  \n",
    "另一種寫法：  \n",
    "```python\n",
    "for i in range( len( bag ) ):\n",
    "    print( bag[i] )\n",
    "```\n",
    "\n",
    "\t* range( x ) ：產生 0 到 x-1 的（清單）\n",
    "\t* len( x ) ：傳回容器的長度。  \n",
    "    \n",
    "**請你嘗試將「bag裡面的物件印出到螢幕上」：**"
   ]
  },
  {
   "cell_type": "code",
   "execution_count": null,
   "metadata": {},
   "outputs": [],
   "source": []
  },
  {
   "cell_type": "markdown",
   "metadata": {},
   "source": [
    "***\n",
    "\n",
    "## 撰寫與呼叫函式（Function）\n",
    "\n",
    "* 函式是預先定義好的一些操作，Python 3.6 內建68種函式可以使用，如 print() 。\n",
    "* 有些和資料型別相同的內建函式可幫我們轉換型別。\n",
    "* 呼叫函式時，請直接打上函式的名字，並將引數置於小括號內。\u000b",
    "```print(“Hello world”)```  \n",
    "* 定義一個自己的函式：使用「def」關鍵字。請看下面範例："
   ]
  },
  {
   "cell_type": "code",
   "execution_count": null,
   "metadata": {},
   "outputs": [],
   "source": [
    "def avg(a,b):\n",
    "    c = (a+b)/2\n",
    "    return c"
   ]
  },
  {
   "cell_type": "markdown",
   "metadata": {},
   "source": [
    "這邊解釋一下上面的語法：  \n",
    "\n",
    "* def ：跟直譯器說我要開始定義新的函式了！\n",
    "* avg ：函式的名字，跟變數一樣的命名限制。\n",
    "* (a,b)：這格函式要接受幾格變數，並幫他們取小名「a」與「b」。\n",
    "* 「:」：表示本行宣告結束，下面是函式的內容。\n",
    "* **冒號後面代表要換下一階**，Python有個很嚴格的要求，就是「**階級分明**」！每個階級前面一定要有「**四個空格**」或「**一個tab**」。這邊將使用四個空格的撰寫習慣。\n",
    "* c = (a+b)/2：將變數**c**指派為**(a+b)/2**的結果  \n",
    "\t* Python 會先乘除後加減，()可以提高計算優先度\n",
    "\t* 補充：命名空間（Namespace）:程式在搜尋你指定的變數名稱時，會由內而外搜尋變數名稱。\n",
    "\t\t* 區域變數：定義在函式內部的變數，外部無法取用的參數。\n",
    "\t\t* 全域變數：定義在根層的變數，基本上在全部的位置都可以取用或更改。若要在函式裡面使用全域變數，需要加關鍵字 ```global```。  \n",
    "* return：指定函式的回傳值。\n",
    "\n",
    "函式定義好了以後，並不會自己執行！所以我們要呼叫函式：  \n",
    "```python\n",
    "avg(2,8)\n",
    "```  \n",
    "若我們想要把結果指派給一個變數，可以這樣做：  \n",
    "```python\n",
    "c = avg(2,8)\n",
    "```\n",
    "\n",
    "我們也可以指定函式變數的名稱，而不是依照位置傳入:\n",
    "```python\n",
    "avg(b=10,a=5) \n",
    "```\n"
   ]
  },
  {
   "cell_type": "code",
   "execution_count": null,
   "metadata": {},
   "outputs": [],
   "source": [
    "avg(b=10,a=20)"
   ]
  },
  {
   "cell_type": "markdown",
   "metadata": {},
   "source": [
    "下面定義了一個**print_name**的函式，請你用指定變數的方式傳入變數："
   ]
  },
  {
   "cell_type": "code",
   "execution_count": null,
   "metadata": {},
   "outputs": [],
   "source": [
    "def print_name(name1,name2):\n",
    "    print(\"Name 1 is {}\\nName 2 is {}\".format(name1,name2))\n",
    "    #沒指定[]內的索引時，會依序從 format 的參數取用。\n",
    "    return"
   ]
  },
  {
   "cell_type": "code",
   "execution_count": null,
   "metadata": {},
   "outputs": [],
   "source": [
    "# 比如說：print_name(name1=\"阿阿\",name2=\"怕黑黑\")\n"
   ]
  },
  {
   "cell_type": "markdown",
   "metadata": {},
   "source": [
    "### 命名空間 Namespace\n",
    "由大而小為：\n",
    "* **內建命名空間**\n",
    "* **全域命名空間**\n",
    "* **區域命名空間**\n",
    "\n",
    "比如有一個檔案："
   ]
  },
  {
   "cell_type": "code",
   "execution_count": null,
   "metadata": {},
   "outputs": [],
   "source": [
    "name = \"Albert\"\n",
    "action = \"run\"\n",
    "\n",
    "def move(name,action):\n",
    "    name = \"Beta\"\n",
    "    action = \"sleep\""
   ]
  },
  {
   "cell_type": "markdown",
   "metadata": {},
   "source": [
    "如果我們在下面呼叫：  \n",
    "```python\n",
    "print(name,action)\n",
    "```\n",
    "試試會發生什麼事！"
   ]
  },
  {
   "cell_type": "code",
   "execution_count": null,
   "metadata": {},
   "outputs": [],
   "source": []
  },
  {
   "cell_type": "markdown",
   "metadata": {},
   "source": [
    "那要怎麼印出「Beta,sleep」呢？"
   ]
  },
  {
   "cell_type": "code",
   "execution_count": null,
   "metadata": {},
   "outputs": [],
   "source": []
  },
  {
   "cell_type": "markdown",
   "metadata": {},
   "source": [
    "---\n",
    "\n",
    "## 類別（class）\n",
    "前面有說，每個Python內建的型別，或說任何物件都是一個類別，有時創建一個客製化的類別，有助於我們處理資料，同時，一個類別也可以「繼承」原有的類別，增加更多不同的功能！要注意的是，class 述句只是一個如何建構類別的說明書，要創立實體時才能真正使用。\n",
    "\n",
    "想知道一個類別有哪些內建的方法，可以使用`dir()`這個內建函數來做到：  \n"
   ]
  },
  {
   "cell_type": "code",
   "execution_count": null,
   "metadata": {},
   "outputs": [],
   "source": [
    "dir(\"apple\")"
   ]
  },
  {
   "cell_type": "markdown",
   "metadata": {},
   "source": [
    "從下面將建立一個 Point 物件，來看看如何自訂一個[類別](https://docs.python.org/3/reference/datamodel.html)："
   ]
  },
  {
   "cell_type": "code",
   "execution_count": 8,
   "metadata": {},
   "outputs": [],
   "source": [
    "class Point(object):\n",
    "    def __init__(self,x,y):\n",
    "        self.x = x\n",
    "        self.y = y\n",
    "    \n",
    "    def __add__(self,b):\n",
    "        return (Point(self.x+b.x,self.y+b.y))\n",
    "    \n",
    "    def __sub__(self,b):\n",
    "        return (Point(self.x-b.x,self.y-b.y))\n",
    "    \n",
    "    def __eq__(self,b):\n",
    "        return ((self.x == b.x) and (self.y == b.y))\n",
    "        \n",
    "    def __str__(self):\n",
    "        return \"Point ({},{})\".format(self.x,self.y)\n",
    "    \n",
    "    def move(self,dx,dy):\n",
    "        self.x = self.x + dx\n",
    "        self.y = self.y + dy\n",
    "        \n",
    "    def hi(self):\n",
    "        print(\"Method defined in Point\" )"
   ]
  },
  {
   "cell_type": "code",
   "execution_count": 2,
   "metadata": {},
   "outputs": [
    {
     "name": "stdout",
     "output_type": "stream",
     "text": [
      "Point (4,7)\n"
     ]
    }
   ],
   "source": [
    "A = Point(1,2)\n",
    "B = Point(3,5)\n",
    "print(A+B)"
   ]
  },
  {
   "cell_type": "markdown",
   "metadata": {},
   "source": [
    "上面我們可以看到，主要有兩種方法（方法就是定義在一個類別下的函數）：由兩個底線開頭與結尾的、不是前述特徵的，第一類的稱為「Descriptor」，是在一個類別中發揮特定效果的方法，比如加減乘除或是一些python處理物件使用的方法，[細節說明請看這](https://docs.python.org/3/howto/descriptor.html)與[這裡](https://docs.python.org/3/tutorial/classes.html)與[這裡](https://docs.python.org/3/reference/datamodel.htm)，比如說：  \n",
    "* `__init__`為一個類別的實體建立時，會執行的方法。\n",
    "* `__add__`為運算子「`+`」的表現。\n",
    "* `__str__`為使用內建函數`str()`與使用`format`、`print()`時產生的字串。\n",
    "* `__doc__`為類別的敘述（說明）。\n",
    "\n",
    "而其他的就是一個函數的方法，從外部呼叫時，則可以使用 object**\\.method()** 的方式使用。\n",
    "\n",
    "有發現很多「self」嗎？這些表示自訂類別下面的「自己」，當變數有self開頭，則可以在全部類別的空間內被使用（使用時也要用self開頭），而定義方法時，第一個變數為self的話，則可以存取類別內所有的變數與方法（使用時也要用self開頭）。若有多個變數（有第二個以上變數需要由外部傳入），第一個 self 並不會被計算進去（這是**新**類別的表現），外部參數會從第二個開始計算（比如上面`__init__`的方法）。\n",
    "\n",
    "\n",
    "### 繼承  \n",
    "當兩種類別有高度相似，而你想要延伸原有的類別更多功能時，可以「繼承」原有類別的屬性，再加上更多專屬的方法。\n",
    "\n",
    "在 class 的定義時，可以定義繼承的對象，當創造一個新的類別時，通常會繼承一個 「object」類別，這是由於 Python 2 有分新舊兩種「類別」，使用繼承 object 為，而 Python 3 中只有新「類別」，因此是否繼承 object 是沒影響的。[相關討論可以看這邊](https://stackoverflow.com/questions/4015417/python-class-inherits-object)或[這邊]()\n",
    "\n",
    "在子類別需要呼叫父類別的方法時，使用```super()```這個方法（在 python 2 則是 super(child,self)）。\n",
    "\n",
    "子類別定義的方法名稱若與父類別相同，則會覆寫父類別的方法（並不會如 C 語言會「重載」）。"
   ]
  },
  {
   "cell_type": "code",
   "execution_count": 9,
   "metadata": {},
   "outputs": [],
   "source": [
    "class Point3D(Point):\n",
    "    def __init__(self,x,y,z):\n",
    "        super().__init__(x,y)\n",
    "        self.z = z\n",
    "    \n",
    "    def __add__(self,b):\n",
    "        return (Point3D(self.x+b.x,self.y+b.y,self.z+b.z))\n",
    "    \n",
    "    def __sub__(self,b):\n",
    "        return (Point(self.x-b.x,self.y-b.y,self.z-b.z))\n",
    "    \n",
    "    def __eq__(self,b):\n",
    "        return ((self.x == b.x) and (self.y == b.y) and (self.z == b.z))\n",
    "        \n",
    "    def __str__(self):\n",
    "        return \"Point3D ({},{},{})\".format(self.x,self.y,self.z)\n",
    "    \n",
    "    def move(self,dx,dy,dz):\n",
    "        self.x = self.x + dx\n",
    "        self.y = self.y + dy\n",
    "        self.z = self.z + dz\n",
    "        \n",
    "    def hello(self):\n",
    "        print(\"Method defined in Point3D\" )"
   ]
  },
  {
   "cell_type": "code",
   "execution_count": 6,
   "metadata": {},
   "outputs": [
    {
     "name": "stdout",
     "output_type": "stream",
     "text": [
      "Point3D (40,60,70)\n",
      "False\n",
      "Point3D (20,30,50)\n"
     ]
    }
   ],
   "source": [
    "C = Point3D(10,20,40)\n",
    "D = Point3D(30,40,30)\n",
    "print(C+D)\n",
    "print(C==D)\n",
    "C.move(10,10,10)\n",
    "print(C)"
   ]
  },
  {
   "cell_type": "markdown",
   "metadata": {},
   "source": [
    "請你試試看，呼叫 Point3D 物件實體的「hi」方法與「hello」方法、「move」方法有何差異"
   ]
  },
  {
   "cell_type": "code",
   "execution_count": 10,
   "metadata": {},
   "outputs": [
    {
     "name": "stdout",
     "output_type": "stream",
     "text": [
      "method in Point\n",
      "method in Point3D\n"
     ]
    }
   ],
   "source": [
    "C.hi()\n",
    "C.hello()"
   ]
  },
  {
   "cell_type": "markdown",
   "metadata": {},
   "source": [
    "***\n",
    "\n",
    "## 引入函式庫\n",
    "\n",
    "* 將一些函式打包給其他的腳本使用。多數的Python函式庫由Python寫成，使用其他語言的要經過特殊的編譯。（如Cyhton）\n",
    "* 使用「```import```」關鍵字。  \n",
    "* 在相同的工作資料夾下，不用打「.py」。比如要引入「lib.py」的檔案，則輸入： ```import lib```  \n",
    "\t* 引入 lib.py 後，我們變可以呼叫裡面的函式及其他物件。\n",
    "\t* 比如筆記本外面的資料夾有個 lib.py，裡面有個變數叫做「**version**」，有個函式叫做**now()** ，讓我們呼叫看看:   \n",
    "    \n",
    "\t```lib.version```  \n",
    "    \n",
    "\t```lib.now()```  \n",
    "    \n",
    "---\n",
    "\n",
    "```python\n",
    "#!/usr/bin/env python3\n",
    "# -*- coding: utf-8 -*-\n",
    "\"\"\"\n",
    "Created on Wed Nov 29 22:24:16 2017\n",
    "\n",
    "@author: Aspiring_Wayne\n",
    "\"\"\"\n",
    "from time import strftime,localtime\n",
    "\n",
    "version=\"2017-11-29 for ES pyhton class\"\n",
    "\n",
    "def now():\n",
    "    print(\"Time now : {} \".format(strftime(\"%a, %d %b %Y %H:%M:%S \",localtime())))\n",
    "    return\n",
    "```\n",
    "\n",
    "---"
   ]
  },
  {
   "cell_type": "code",
   "execution_count": null,
   "metadata": {},
   "outputs": [],
   "source": [
    "import lib"
   ]
  },
  {
   "cell_type": "code",
   "execution_count": null,
   "metadata": {},
   "outputs": [],
   "source": []
  },
  {
   "cell_type": "markdown",
   "metadata": {},
   "source": [
    "* 引入部分函式時，可以用下面的語法：\n",
    "```from lib import now``` \n",
    "\n",
    "* 使用conda安裝的套件：直接 import 函式庫名：  \n",
    "```import numpy```\n",
    "\n",
    "* 通常為了方便，我們會將函式庫的名稱簡寫，可以使用「**as**關鍵字」，之後取用時就可以用簡寫稱之，如下面的語法："
   ]
  },
  {
   "cell_type": "code",
   "execution_count": null,
   "metadata": {},
   "outputs": [],
   "source": [
    "import numpy as np\n",
    "import matplotlib.pyplot as plt"
   ]
  },
  {
   "cell_type": "code",
   "execution_count": null,
   "metadata": {},
   "outputs": [],
   "source": []
  }
 ],
 "metadata": {
  "kernelspec": {
   "display_name": "Python 3",
   "language": "python",
   "name": "python3"
  },
  "language_info": {
   "codemirror_mode": {
    "name": "ipython",
    "version": 3
   },
   "file_extension": ".py",
   "mimetype": "text/x-python",
   "name": "python",
   "nbconvert_exporter": "python",
   "pygments_lexer": "ipython3",
   "version": "3.6.4"
  }
 },
 "nbformat": 4,
 "nbformat_minor": 1
}
